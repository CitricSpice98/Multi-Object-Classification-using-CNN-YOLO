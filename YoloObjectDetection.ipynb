{
  "cells": [
    {
      "cell_type": "code",
      "source": [
        "!pip install ultralytics\n",
        "!pip install torch"
      ],
      "metadata": {
        "colab": {
          "base_uri": "https://localhost:8080/"
        },
        "id": "4W5ezD6Vggnc",
        "outputId": "90528b8a-475e-4c9a-f183-5917688bf21d"
      },
      "id": "4W5ezD6Vggnc",
      "execution_count": null,
      "outputs": [
        {
          "output_type": "stream",
          "name": "stdout",
          "text": [
            "Collecting ultralytics\n",
            "  Downloading ultralytics-8.0.196-py3-none-any.whl (631 kB)\n",
            "\u001b[2K     \u001b[90m━━━━━━━━━━━━━━━━━━━━━━━━━━━━━━━━━━━━━━━\u001b[0m \u001b[32m631.1/631.1 kB\u001b[0m \u001b[31m5.5 MB/s\u001b[0m eta \u001b[36m0:00:00\u001b[0m\n",
            "\u001b[?25hRequirement already satisfied: matplotlib>=3.3.0 in /usr/local/lib/python3.10/dist-packages (from ultralytics) (3.7.1)\n",
            "Requirement already satisfied: numpy>=1.22.2 in /usr/local/lib/python3.10/dist-packages (from ultralytics) (1.23.5)\n",
            "Requirement already satisfied: opencv-python>=4.6.0 in /usr/local/lib/python3.10/dist-packages (from ultralytics) (4.8.0.76)\n",
            "Requirement already satisfied: pillow>=7.1.2 in /usr/local/lib/python3.10/dist-packages (from ultralytics) (9.4.0)\n",
            "Requirement already satisfied: pyyaml>=5.3.1 in /usr/local/lib/python3.10/dist-packages (from ultralytics) (6.0.1)\n",
            "Requirement already satisfied: requests>=2.23.0 in /usr/local/lib/python3.10/dist-packages (from ultralytics) (2.31.0)\n",
            "Requirement already satisfied: scipy>=1.4.1 in /usr/local/lib/python3.10/dist-packages (from ultralytics) (1.11.3)\n",
            "Requirement already satisfied: torch>=1.8.0 in /usr/local/lib/python3.10/dist-packages (from ultralytics) (2.0.1+cu118)\n",
            "Requirement already satisfied: torchvision>=0.9.0 in /usr/local/lib/python3.10/dist-packages (from ultralytics) (0.15.2+cu118)\n",
            "Requirement already satisfied: tqdm>=4.64.0 in /usr/local/lib/python3.10/dist-packages (from ultralytics) (4.66.1)\n",
            "Requirement already satisfied: pandas>=1.1.4 in /usr/local/lib/python3.10/dist-packages (from ultralytics) (1.5.3)\n",
            "Requirement already satisfied: seaborn>=0.11.0 in /usr/local/lib/python3.10/dist-packages (from ultralytics) (0.12.2)\n",
            "Requirement already satisfied: psutil in /usr/local/lib/python3.10/dist-packages (from ultralytics) (5.9.5)\n",
            "Requirement already satisfied: py-cpuinfo in /usr/local/lib/python3.10/dist-packages (from ultralytics) (9.0.0)\n",
            "Collecting thop>=0.1.1 (from ultralytics)\n",
            "  Downloading thop-0.1.1.post2209072238-py3-none-any.whl (15 kB)\n",
            "Requirement already satisfied: contourpy>=1.0.1 in /usr/local/lib/python3.10/dist-packages (from matplotlib>=3.3.0->ultralytics) (1.1.1)\n",
            "Requirement already satisfied: cycler>=0.10 in /usr/local/lib/python3.10/dist-packages (from matplotlib>=3.3.0->ultralytics) (0.12.0)\n",
            "Requirement already satisfied: fonttools>=4.22.0 in /usr/local/lib/python3.10/dist-packages (from matplotlib>=3.3.0->ultralytics) (4.43.1)\n",
            "Requirement already satisfied: kiwisolver>=1.0.1 in /usr/local/lib/python3.10/dist-packages (from matplotlib>=3.3.0->ultralytics) (1.4.5)\n",
            "Requirement already satisfied: packaging>=20.0 in /usr/local/lib/python3.10/dist-packages (from matplotlib>=3.3.0->ultralytics) (23.2)\n",
            "Requirement already satisfied: pyparsing>=2.3.1 in /usr/local/lib/python3.10/dist-packages (from matplotlib>=3.3.0->ultralytics) (3.1.1)\n",
            "Requirement already satisfied: python-dateutil>=2.7 in /usr/local/lib/python3.10/dist-packages (from matplotlib>=3.3.0->ultralytics) (2.8.2)\n",
            "Requirement already satisfied: pytz>=2020.1 in /usr/local/lib/python3.10/dist-packages (from pandas>=1.1.4->ultralytics) (2023.3.post1)\n",
            "Requirement already satisfied: charset-normalizer<4,>=2 in /usr/local/lib/python3.10/dist-packages (from requests>=2.23.0->ultralytics) (3.3.0)\n",
            "Requirement already satisfied: idna<4,>=2.5 in /usr/local/lib/python3.10/dist-packages (from requests>=2.23.0->ultralytics) (3.4)\n",
            "Requirement already satisfied: urllib3<3,>=1.21.1 in /usr/local/lib/python3.10/dist-packages (from requests>=2.23.0->ultralytics) (2.0.6)\n",
            "Requirement already satisfied: certifi>=2017.4.17 in /usr/local/lib/python3.10/dist-packages (from requests>=2.23.0->ultralytics) (2023.7.22)\n",
            "Requirement already satisfied: filelock in /usr/local/lib/python3.10/dist-packages (from torch>=1.8.0->ultralytics) (3.12.4)\n",
            "Requirement already satisfied: typing-extensions in /usr/local/lib/python3.10/dist-packages (from torch>=1.8.0->ultralytics) (4.5.0)\n",
            "Requirement already satisfied: sympy in /usr/local/lib/python3.10/dist-packages (from torch>=1.8.0->ultralytics) (1.12)\n",
            "Requirement already satisfied: networkx in /usr/local/lib/python3.10/dist-packages (from torch>=1.8.0->ultralytics) (3.1)\n",
            "Requirement already satisfied: jinja2 in /usr/local/lib/python3.10/dist-packages (from torch>=1.8.0->ultralytics) (3.1.2)\n",
            "Requirement already satisfied: triton==2.0.0 in /usr/local/lib/python3.10/dist-packages (from torch>=1.8.0->ultralytics) (2.0.0)\n",
            "Requirement already satisfied: cmake in /usr/local/lib/python3.10/dist-packages (from triton==2.0.0->torch>=1.8.0->ultralytics) (3.27.6)\n",
            "Requirement already satisfied: lit in /usr/local/lib/python3.10/dist-packages (from triton==2.0.0->torch>=1.8.0->ultralytics) (17.0.2)\n",
            "Requirement already satisfied: six>=1.5 in /usr/local/lib/python3.10/dist-packages (from python-dateutil>=2.7->matplotlib>=3.3.0->ultralytics) (1.16.0)\n",
            "Requirement already satisfied: MarkupSafe>=2.0 in /usr/local/lib/python3.10/dist-packages (from jinja2->torch>=1.8.0->ultralytics) (2.1.3)\n",
            "Requirement already satisfied: mpmath>=0.19 in /usr/local/lib/python3.10/dist-packages (from sympy->torch>=1.8.0->ultralytics) (1.3.0)\n",
            "Installing collected packages: thop, ultralytics\n",
            "Successfully installed thop-0.1.1.post2209072238 ultralytics-8.0.196\n",
            "Requirement already satisfied: torch in /usr/local/lib/python3.10/dist-packages (2.0.1+cu118)\n",
            "Requirement already satisfied: filelock in /usr/local/lib/python3.10/dist-packages (from torch) (3.12.4)\n",
            "Requirement already satisfied: typing-extensions in /usr/local/lib/python3.10/dist-packages (from torch) (4.5.0)\n",
            "Requirement already satisfied: sympy in /usr/local/lib/python3.10/dist-packages (from torch) (1.12)\n",
            "Requirement already satisfied: networkx in /usr/local/lib/python3.10/dist-packages (from torch) (3.1)\n",
            "Requirement already satisfied: jinja2 in /usr/local/lib/python3.10/dist-packages (from torch) (3.1.2)\n",
            "Requirement already satisfied: triton==2.0.0 in /usr/local/lib/python3.10/dist-packages (from torch) (2.0.0)\n",
            "Requirement already satisfied: cmake in /usr/local/lib/python3.10/dist-packages (from triton==2.0.0->torch) (3.27.6)\n",
            "Requirement already satisfied: lit in /usr/local/lib/python3.10/dist-packages (from triton==2.0.0->torch) (17.0.2)\n",
            "Requirement already satisfied: MarkupSafe>=2.0 in /usr/local/lib/python3.10/dist-packages (from jinja2->torch) (2.1.3)\n",
            "Requirement already satisfied: mpmath>=0.19 in /usr/local/lib/python3.10/dist-packages (from sympy->torch) (1.3.0)\n"
          ]
        }
      ]
    },
    {
      "cell_type": "code",
      "execution_count": 29,
      "id": "bf5730b5-77af-49f8-84f4-94efbcc07c37",
      "metadata": {
        "id": "bf5730b5-77af-49f8-84f4-94efbcc07c37"
      },
      "outputs": [],
      "source": [
        "import torch\n",
        "import torch.nn as nn\n",
        "import torch.optim as optim\n",
        "from torchvision import datasets, transforms\n",
        "from torch.utils.data import DataLoader\n",
        "from ultralytics import YOLO"
      ]
    },
    {
      "cell_type": "code",
      "source": [
        "from google.colab import drive\n",
        "drive.mount('/content/dataset')\n",
        "\n"
      ],
      "metadata": {
        "id": "iZP16IgKjAmu"
      },
      "id": "iZP16IgKjAmu",
      "execution_count": 22,
      "outputs": []
    },
    {
      "cell_type": "markdown",
      "source": [
        "# New Section"
      ],
      "metadata": {
        "id": "Z6LKWkvsj3Bn"
      },
      "id": "Z6LKWkvsj3Bn"
    },
    {
      "cell_type": "code",
      "execution_count": 56,
      "id": "e9e2723a",
      "metadata": {
        "id": "e9e2723a"
      },
      "outputs": [],
      "source": [
        "trainDir = \"/content/drive/MyDrive/Assignment1-EAS595/Dataset/Train\"\n",
        "testDir = \"/content/drive/Assignement1-EAS595/Dataset/Test\"\n",
        "numClasses = 3\n",
        "chkpoint_model_loc = 5\n",
        "checkpoint_dir=\"Cnn_Checkpoints\"\n",
        "classes = [\"Bike\",\"Car\",\"Person\"]\n",
        "bikeTrainDir = \"/content/drive/MyDrive/Assignment1-EAS595/Dataset/Train/Bike\"\n",
        "bikeTestDir = \"/content/drive/MyDrive/Assignment1-EAS595/Dataset/Test/Bike\"\n",
        "carTrainDir = \"/content/drive/MyDrive/Assignment1-EAS595/Dataset/Train/Car\"\n",
        "carTestDir = \"/content/drive/MyDrive/Assignment1-EAS595/Dataset/Test/Car\"\n",
        "personTrainDir = \"/content/drive/MyDrive/Assignment1-EAS595/Dataset/Train/Person\"\n",
        "personTestDir = \"/content/drive/MyDrive/Assignment1-EAS595/Dataset/Test/Person\""
      ]
    },
    {
      "cell_type": "markdown",
      "source": [
        "# New Section"
      ],
      "metadata": {
        "id": "08wqM0-2huBg"
      },
      "id": "08wqM0-2huBg"
    },
    {
      "cell_type": "code",
      "execution_count": 90,
      "id": "66b7f200",
      "metadata": {
        "id": "66b7f200"
      },
      "outputs": [],
      "source": [
        "model = YOLO(\"yolov8n.pt\")\n",
        "bikePreds = []\n",
        "bikeGT = []\n",
        "carsPreds = []\n",
        "carsGT = []\n",
        "personPreds = []\n",
        "personGT = []"
      ]
    },
    {
      "cell_type": "code",
      "source": [
        "bikeResults = model(bikeTestDir)\n",
        "for i in bikeResults:\n",
        "  if 1.0 in i.boxes.cls:\n",
        "    bikePreds.append(1)\n",
        "  bikeGT.append(1)"
      ],
      "metadata": {
        "colab": {
          "base_uri": "https://localhost:8080/"
        },
        "id": "Ev6qadcJlrWU",
        "outputId": "67c6032e-c3c6-4ef0-d160-238e041273ea"
      },
      "id": "Ev6qadcJlrWU",
      "execution_count": 95,
      "outputs": [
        {
          "output_type": "stream",
          "name": "stderr",
          "text": [
            "\n",
            "image 1/22 /content/drive/MyDrive/Assignment1-EAS595/Dataset/Test/Bike/bike_301.png: 480x640 2 bicycles, 499.9ms\n",
            "image 2/22 /content/drive/MyDrive/Assignment1-EAS595/Dataset/Test/Bike/bike_302.png: 480x640 1 bicycle, 286.2ms\n",
            "image 3/22 /content/drive/MyDrive/Assignment1-EAS595/Dataset/Test/Bike/bike_303.png: 480x640 1 bicycle, 258.0ms\n",
            "image 4/22 /content/drive/MyDrive/Assignment1-EAS595/Dataset/Test/Bike/bike_304.png: 480x640 1 bicycle, 261.0ms\n",
            "image 5/22 /content/drive/MyDrive/Assignment1-EAS595/Dataset/Test/Bike/bike_305.png: 480x640 1 bicycle, 275.2ms\n",
            "image 6/22 /content/drive/MyDrive/Assignment1-EAS595/Dataset/Test/Bike/bike_306.png: 480x640 1 bicycle, 250.2ms\n",
            "image 7/22 /content/drive/MyDrive/Assignment1-EAS595/Dataset/Test/Bike/bike_307.png: 480x640 1 bicycle, 246.0ms\n",
            "image 8/22 /content/drive/MyDrive/Assignment1-EAS595/Dataset/Test/Bike/bike_313.png: 480x640 2 bicycles, 183.9ms\n",
            "image 9/22 /content/drive/MyDrive/Assignment1-EAS595/Dataset/Test/Bike/bike_314.png: 480x640 1 bicycle, 167.6ms\n",
            "image 10/22 /content/drive/MyDrive/Assignment1-EAS595/Dataset/Test/Bike/bike_315.png: 480x640 1 bicycle, 172.1ms\n",
            "image 11/22 /content/drive/MyDrive/Assignment1-EAS595/Dataset/Test/Bike/bike_316.png: 480x640 1 person, 2 bicycles, 161.0ms\n",
            "image 12/22 /content/drive/MyDrive/Assignment1-EAS595/Dataset/Test/Bike/bike_317.png: 480x640 1 bicycle, 175.8ms\n",
            "image 13/22 /content/drive/MyDrive/Assignment1-EAS595/Dataset/Test/Bike/bike_318.png: 480x640 1 bicycle, 179.4ms\n",
            "image 14/22 /content/drive/MyDrive/Assignment1-EAS595/Dataset/Test/Bike/bike_319.png: 480x640 3 bicycles, 176.6ms\n",
            "image 15/22 /content/drive/MyDrive/Assignment1-EAS595/Dataset/Test/Bike/bike_320.png: 480x640 2 persons, 5 bicycles, 162.8ms\n",
            "image 16/22 /content/drive/MyDrive/Assignment1-EAS595/Dataset/Test/Bike/bike_322.png: 480x640 3 bicycles, 1 potted plant, 199.6ms\n",
            "image 17/22 /content/drive/MyDrive/Assignment1-EAS595/Dataset/Test/Bike/bike_323.png: 480x640 1 bicycle, 1 stop sign, 167.7ms\n",
            "image 18/22 /content/drive/MyDrive/Assignment1-EAS595/Dataset/Test/Bike/bike_325.png: 480x640 1 person, 2 bicycles, 184.3ms\n",
            "image 19/22 /content/drive/MyDrive/Assignment1-EAS595/Dataset/Test/Bike/bike_330.png: 480x640 2 bicycles, 1 refrigerator, 195.8ms\n",
            "image 20/22 /content/drive/MyDrive/Assignment1-EAS595/Dataset/Test/Bike/bike_331.png: 480x640 1 bicycle, 176.0ms\n",
            "image 21/22 /content/drive/MyDrive/Assignment1-EAS595/Dataset/Test/Bike/bike_332.png: 480x640 2 bicycles, 196.0ms\n",
            "image 22/22 /content/drive/MyDrive/Assignment1-EAS595/Dataset/Test/Bike/bike_348.png: 480x640 1 bicycle, 189.6ms\n",
            "Speed: 3.3ms preprocess, 216.6ms inference, 2.1ms postprocess per image at shape (1, 3, 480, 640)\n"
          ]
        }
      ]
    },
    {
      "cell_type": "code",
      "source": [],
      "metadata": {
        "id": "wUApb9mh2cLG"
      },
      "id": "wUApb9mh2cLG",
      "execution_count": null,
      "outputs": []
    },
    {
      "cell_type": "code",
      "source": [
        "carResults = model(carTestDir)\n",
        "for i in carResults:\n",
        "  if 2.0 in i.boxes.cls:\n",
        "    carsPreds.append(1)\n",
        "  carsGT.append(1)\n",
        ""
      ],
      "metadata": {
        "colab": {
          "base_uri": "https://localhost:8080/"
        },
        "id": "mDuryVoo1P7S",
        "outputId": "778901d4-9f1b-4cb8-93b4-7f013a6f7f5a"
      },
      "id": "mDuryVoo1P7S",
      "execution_count": 96,
      "outputs": [
        {
          "output_type": "stream",
          "name": "stderr",
          "text": [
            "\n",
            "image 1/30 /content/drive/MyDrive/Assignment1-EAS595/Dataset/Test/Car/carsgraz_365.png: 480x640 1 person, 3 cars, 207.3ms\n",
            "image 2/30 /content/drive/MyDrive/Assignment1-EAS595/Dataset/Test/Car/carsgraz_366.png: 480x640 1 car, 2 traffic lights, 219.5ms\n",
            "image 3/30 /content/drive/MyDrive/Assignment1-EAS595/Dataset/Test/Car/carsgraz_367.png: 480x640 1 car, 181.8ms\n",
            "image 4/30 /content/drive/MyDrive/Assignment1-EAS595/Dataset/Test/Car/carsgraz_368.png: 480x640 1 car, 183.2ms\n",
            "image 5/30 /content/drive/MyDrive/Assignment1-EAS595/Dataset/Test/Car/carsgraz_369.png: 480x640 1 car, 203.1ms\n",
            "image 6/30 /content/drive/MyDrive/Assignment1-EAS595/Dataset/Test/Car/carsgraz_370.png: 480x640 1 car, 226.3ms\n",
            "image 7/30 /content/drive/MyDrive/Assignment1-EAS595/Dataset/Test/Car/carsgraz_371.png: 480x640 1 car, 182.6ms\n",
            "image 8/30 /content/drive/MyDrive/Assignment1-EAS595/Dataset/Test/Car/carsgraz_373.png: 480x640 1 car, 185.0ms\n",
            "image 9/30 /content/drive/MyDrive/Assignment1-EAS595/Dataset/Test/Car/carsgraz_374.png: 480x640 2 cars, 198.7ms\n",
            "image 10/30 /content/drive/MyDrive/Assignment1-EAS595/Dataset/Test/Car/carsgraz_375.png: 480x640 1 car, 190.4ms\n",
            "image 11/30 /content/drive/MyDrive/Assignment1-EAS595/Dataset/Test/Car/carsgraz_376.png: 480x640 1 truck, 190.5ms\n",
            "image 12/30 /content/drive/MyDrive/Assignment1-EAS595/Dataset/Test/Car/carsgraz_377.png: 480x640 1 car, 170.5ms\n",
            "image 13/30 /content/drive/MyDrive/Assignment1-EAS595/Dataset/Test/Car/carsgraz_379.png: 480x640 3 cars, 171.2ms\n",
            "image 14/30 /content/drive/MyDrive/Assignment1-EAS595/Dataset/Test/Car/carsgraz_380.png: 480x640 2 cars, 4 traffic lights, 177.9ms\n",
            "image 15/30 /content/drive/MyDrive/Assignment1-EAS595/Dataset/Test/Car/carsgraz_381.png: 480x640 2 cars, 187.7ms\n",
            "image 16/30 /content/drive/MyDrive/Assignment1-EAS595/Dataset/Test/Car/carsgraz_385.png: 640x480 2 persons, 1 car, 180.2ms\n",
            "image 17/30 /content/drive/MyDrive/Assignment1-EAS595/Dataset/Test/Car/carsgraz_387.png: 480x640 2 cars, 177.9ms\n",
            "image 18/30 /content/drive/MyDrive/Assignment1-EAS595/Dataset/Test/Car/carsgraz_389.png: 480x640 1 car, 177.5ms\n",
            "image 19/30 /content/drive/MyDrive/Assignment1-EAS595/Dataset/Test/Car/carsgraz_390.png: 480x640 3 cars, 169.5ms\n",
            "image 20/30 /content/drive/MyDrive/Assignment1-EAS595/Dataset/Test/Car/carsgraz_391.png: 480x640 2 cars, 177.4ms\n",
            "image 21/30 /content/drive/MyDrive/Assignment1-EAS595/Dataset/Test/Car/carsgraz_392.png: 480x640 7 cars, 190.9ms\n",
            "image 22/30 /content/drive/MyDrive/Assignment1-EAS595/Dataset/Test/Car/carsgraz_394.png: 480x640 1 car, 168.7ms\n",
            "image 23/30 /content/drive/MyDrive/Assignment1-EAS595/Dataset/Test/Car/carsgraz_398.png: 480x640 7 cars, 177.1ms\n",
            "image 24/30 /content/drive/MyDrive/Assignment1-EAS595/Dataset/Test/Car/carsgraz_401.png: 480x640 2 cars, 180.6ms\n",
            "image 25/30 /content/drive/MyDrive/Assignment1-EAS595/Dataset/Test/Car/carsgraz_403.png: 480x640 2 cars, 183.7ms\n",
            "image 26/30 /content/drive/MyDrive/Assignment1-EAS595/Dataset/Test/Car/carsgraz_405.png: 480x640 2 cars, 170.8ms\n",
            "image 27/30 /content/drive/MyDrive/Assignment1-EAS595/Dataset/Test/Car/carsgraz_407.png: 480x640 2 cars, 165.3ms\n",
            "image 28/30 /content/drive/MyDrive/Assignment1-EAS595/Dataset/Test/Car/carsgraz_408.png: 480x640 1 car, 172.3ms\n",
            "image 29/30 /content/drive/MyDrive/Assignment1-EAS595/Dataset/Test/Car/carsgraz_409.png: 480x640 1 car, 170.8ms\n",
            "image 30/30 /content/drive/MyDrive/Assignment1-EAS595/Dataset/Test/Car/carsgraz_420.png: 480x640 3 cars, 185.1ms\n",
            "Speed: 2.5ms preprocess, 184.1ms inference, 1.9ms postprocess per image at shape (1, 3, 480, 640)\n"
          ]
        }
      ]
    },
    {
      "cell_type": "code",
      "source": [
        "personResults = model(personTestDir)\n",
        "for i in personResults:\n",
        "  if 0.0 in i.boxes.cls:\n",
        "    personPreds.append(1)\n",
        "  personGT.append(1)"
      ],
      "metadata": {
        "colab": {
          "base_uri": "https://localhost:8080/"
        },
        "id": "AKckUiWi15oK",
        "outputId": "c61cad83-cd0b-4606-94f0-90a02c447efd"
      },
      "id": "AKckUiWi15oK",
      "execution_count": 97,
      "outputs": [
        {
          "output_type": "stream",
          "name": "stderr",
          "text": [
            "\n",
            "image 1/20 /content/drive/MyDrive/Assignment1-EAS595/Dataset/Test/Person/person_252.png: 480x640 6 persons, 2 benchs, 2 umbrellas, 2 handbags, 3 chairs, 194.7ms\n",
            "image 2/20 /content/drive/MyDrive/Assignment1-EAS595/Dataset/Test/Person/person_253.png: 480x640 2 persons, 1 handbag, 275.3ms\n",
            "image 3/20 /content/drive/MyDrive/Assignment1-EAS595/Dataset/Test/Person/person_256.png: 480x640 3 persons, 1 backpack, 1 handbag, 269.1ms\n",
            "image 4/20 /content/drive/MyDrive/Assignment1-EAS595/Dataset/Test/Person/person_257.png: 480x640 1 person, 1 dog, 1 potted plant, 275.0ms\n",
            "image 5/20 /content/drive/MyDrive/Assignment1-EAS595/Dataset/Test/Person/person_274.png: 480x640 3 persons, 1 bench, 1 dog, 3 handbags, 258.1ms\n",
            "image 6/20 /content/drive/MyDrive/Assignment1-EAS595/Dataset/Test/Person/person_276.png: 480x640 1 person, 262.0ms\n",
            "image 7/20 /content/drive/MyDrive/Assignment1-EAS595/Dataset/Test/Person/person_287.png: 480x640 2 persons, 264.3ms\n",
            "image 8/20 /content/drive/MyDrive/Assignment1-EAS595/Dataset/Test/Person/person_293.png: 480x640 4 persons, 269.5ms\n",
            "image 9/20 /content/drive/MyDrive/Assignment1-EAS595/Dataset/Test/Person/person_294.png: 640x480 1 person, 1 cell phone, 277.7ms\n",
            "image 10/20 /content/drive/MyDrive/Assignment1-EAS595/Dataset/Test/Person/person_295.png: 640x480 1 person, 269.8ms\n",
            "image 11/20 /content/drive/MyDrive/Assignment1-EAS595/Dataset/Test/Person/person_298.png: 640x480 1 person, 270.2ms\n",
            "image 12/20 /content/drive/MyDrive/Assignment1-EAS595/Dataset/Test/Person/person_301.png: 480x640 10 persons, 264.5ms\n",
            "image 13/20 /content/drive/MyDrive/Assignment1-EAS595/Dataset/Test/Person/person_302.png: 480x640 4 persons, 1 dog, 1 skateboard, 267.5ms\n",
            "image 14/20 /content/drive/MyDrive/Assignment1-EAS595/Dataset/Test/Person/person_304.png: 480x640 2 persons, 2 handbags, 1 skateboard, 263.7ms\n",
            "image 15/20 /content/drive/MyDrive/Assignment1-EAS595/Dataset/Test/Person/person_305.png: 480x640 3 persons, 260.6ms\n",
            "image 16/20 /content/drive/MyDrive/Assignment1-EAS595/Dataset/Test/Person/person_306.png: 480x640 6 persons, 279.5ms\n",
            "image 17/20 /content/drive/MyDrive/Assignment1-EAS595/Dataset/Test/Person/person_307.png: 480x640 5 persons, 1 dog, 1 horse, 263.1ms\n",
            "image 18/20 /content/drive/MyDrive/Assignment1-EAS595/Dataset/Test/Person/person_308.png: 480x640 7 persons, 203.6ms\n",
            "image 19/20 /content/drive/MyDrive/Assignment1-EAS595/Dataset/Test/Person/person_309.png: 480x640 5 persons, 1 bicycle, 1 motorcycle, 1 chair, 171.4ms\n",
            "image 20/20 /content/drive/MyDrive/Assignment1-EAS595/Dataset/Test/Person/person_310.png: 480x640 9 persons, 2 benchs, 1 handbag, 1 chair, 160.1ms\n",
            "Speed: 2.4ms preprocess, 251.0ms inference, 1.9ms postprocess per image at shape (1, 3, 480, 640)\n"
          ]
        }
      ]
    },
    {
      "cell_type": "code",
      "source": [
        "bikeAcc = (len(bikePreds)/len(bikeGT))*100\n",
        "print(\"Bike Prediction Accuracy:\",bikeAcc)\n",
        "carAcc = (len(carsPreds)/len(carsGT))*100\n",
        "print(\"Car Prediction Accuracy:\",carAcc)\n",
        "personAcc = (len(personPreds)/len(personGT))*100\n",
        "print(\"Person Prediction Accuracy:\",personAcc)"
      ],
      "metadata": {
        "colab": {
          "base_uri": "https://localhost:8080/"
        },
        "id": "8e_7de1M2dSu",
        "outputId": "39e7f295-0331-44b5-a5fc-2952d9af67bd"
      },
      "id": "8e_7de1M2dSu",
      "execution_count": 98,
      "outputs": [
        {
          "output_type": "stream",
          "name": "stdout",
          "text": [
            "Bike Prediction Accuracy: 100.0\n",
            "Car Prediction Accuracy: 96.66666666666667\n",
            "Person Prediction Accuracy: 100.0\n"
          ]
        }
      ]
    }
  ],
  "metadata": {
    "kernelspec": {
      "display_name": "Python 3 (ipykernel)",
      "language": "python",
      "name": "python3"
    },
    "language_info": {
      "codemirror_mode": {
        "name": "ipython",
        "version": 3
      },
      "file_extension": ".py",
      "mimetype": "text/x-python",
      "name": "python",
      "nbconvert_exporter": "python",
      "pygments_lexer": "ipython3",
      "version": "3.9.6"
    },
    "colab": {
      "provenance": []
    }
  },
  "nbformat": 4,
  "nbformat_minor": 5
}